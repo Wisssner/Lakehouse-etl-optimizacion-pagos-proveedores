{
 "cells": [
  {
   "cell_type": "code",
   "execution_count": 0,
   "metadata": {
    "application/vnd.databricks.v1+cell": {
     "cellMetadata": {
      "byteLimit": 2048000,
      "rowLimit": 10000
     },
     "inputWidgets": {},
     "nuid": "45eb2000-0d6f-47e7-98e8-6410fa22756e",
     "showTitle": false,
     "tableResultSettingsMap": {},
     "title": ""
    }
   },
   "outputs": [],
   "source": [
    "from pyspark.sql.functions import col, when, round, sum as _sum, row_number\n",
    "from pyspark.sql.types import *\n",
    "from pyspark.sql.window import Window\n",
    "\n",
    "# 🧩 Crear widget para tipo de cambio (PEN/USD)\n",
    "dbutils.widgets.text(\"tipo_cambio\", \"3.63\", \"Ingrese el tipo de cambio PEN/USD\")\n",
    "tipo_cambio = float(dbutils.widgets.get(\"tipo_cambio\"))\n",
    "\n",
    "# 🔄 Eliminar tablas si ya existen\n",
    "spark.sql(\"DROP TABLE IF EXISTS default.silver_pedidos_raw\")\n",
    "spark.sql(\"DROP TABLE IF EXISTS default.silver_pedidos_pago\")\n",
    "\n",
    "# 1️⃣ Leer tabla intermedia bfstable\n",
    "df_bf = spark.read.table(\"default.bfstable\")\n",
    "\n",
    "# 2️⃣ Casteo apropiado (sin renombrar columnas)\n",
    "df_casted = df_bf.select(\n",
    "    col(\"codigo_solicitud\").cast(StringType()),\n",
    "    col(\"pedido_compra\").cast(LongType()),\n",
    "    col(\"posicion\").cast(IntegerType()),\n",
    "    col(\"codigo_proveedor\").cast(IntegerType()),\n",
    "    col(\"nombre_proveedor\").cast(StringType()),\n",
    "    col(\"texto_breve\").cast(StringType()),\n",
    "    col(\"moneda\").cast(StringType()),\n",
    "    col(\"cuenta_contable\").cast(LongType()),\n",
    "    col(\"grupo_articulo\").cast(IntegerType()),\n",
    "    col(\"fecha_entrega\").cast(DateType()),\n",
    "    col(\"cantidad\").cast(DoubleType()),\n",
    "    col(\"unidad\").cast(StringType()),\n",
    "    col(\"valor_neto\").cast(DoubleType()),\n",
    "    col(\"indicador_impuesto\").cast(StringType()),\n",
    "    col(\"centro_costo\").cast(DoubleType()),\n",
    "    col(\"orden\").cast(StringType()),\n",
    "    col(\"area\").cast(StringType()),\n",
    "    col(\"area_solicitante\").cast(StringType()),\n",
    "    col(\"fecha_recepcion\").cast(TimestampType()),\n",
    "    col(\"fecha_generacion\").cast(DateType()),\n",
    "    col(\"fecha_entrega_servicio\").cast(DateType()),\n",
    "    col(\"fecha_documento\").cast(DateType()),\n",
    "    col(\"fecha_aceptacion\").cast(DateType()),\n",
    "    col(\"fecha_envio_proveedor\").cast(DateType()),\n",
    "    col(\"fecha_mesa_partes\").cast(DateType()),\n",
    "    col(\"fecha_contabilidad\").cast(DateType()),\n",
    "    col(\"numero_comprobante\").cast(StringType()),\n",
    "    col(\"fecha_pago\").cast(DateType()),\n",
    "    col(\"estado_pedido\").cast(StringType()),\n",
    "    col(\"fecha_registro_conta\").cast(StringType())\n",
    ")\n",
    "\n",
    "# 3️⃣ Enriquecer con cálculo de total_pago\n",
    "df_enriquecido = df_casted.withColumn(\n",
    "    \"total_pago\",\n",
    "    when(col(\"indicador_impuesto\") == \"K8\", col(\"valor_neto\") * col(\"cantidad\") * 1.18)\n",
    "    .otherwise(col(\"valor_neto\") * col(\"cantidad\"))\n",
    ").withColumn(\n",
    "    \"total_pago\",\n",
    "    when(col(\"moneda\") == \"USD\", col(\"total_pago\") * tipo_cambio).otherwise(col(\"total_pago\"))\n",
    ")\n",
    "\n",
    "# 4️⃣ Evitar duplicado de cantidad en el cálculo del total por pedido\n",
    "df_total_pago = df_enriquecido.select(\n",
    "    \"pedido_compra\", \"texto_breve\", \"valor_neto\", \"cantidad\", \"moneda\", \"indicador_impuesto\", \"total_pago\"\n",
    ").dropDuplicates([\"pedido_compra\", \"texto_breve\", \"valor_neto\", \"cantidad\"])\n",
    "\n",
    "# 5️⃣ Total por pedido_compra (evitando duplicidad de cantidad)\n",
    "df_total = df_total_pago.groupBy(\"pedido_compra\").agg(\n",
    "    round(_sum(\"total_pago\"), 2).alias(\"total_pago_soles\")\n",
    ")\n",
    "\n",
    "# 6️⃣ Fila representativa por pedido_compra (posición menor)\n",
    "window_spec = Window.partitionBy(\"pedido_compra\").orderBy(\"posicion\")\n",
    "df_rep = df_enriquecido.withColumn(\"row_num\", row_number().over(window_spec)) \\\n",
    "    .filter(col(\"row_num\") == 1).drop(\"row_num\", \"total_pago\")\n",
    "\n",
    "# 7️⃣ Combinar total con fila representativa\n",
    "df_silver_final = df_total.join(df_rep, on=\"pedido_compra\", how=\"left\")\n",
    "\n",
    "# 8️⃣ Guardar tablas Delta\n",
    "df_enriquecido.write.format(\"delta\").mode(\"overwrite\").saveAsTable(\"default.silver_pedidos_raw\")\n",
    "df_silver_final.write.format(\"delta\").mode(\"overwrite\").saveAsTable(\"default.silver_pedidos_pago\")\n",
    "\n",
    "print(f\"✅ Tablas Silver generadas correctamente con tipo de cambio aplicado: {tipo_cambio}\")"
   ]
  },
  {
   "cell_type": "code",
   "execution_count": 0,
   "metadata": {
    "application/vnd.databricks.v1+cell": {
     "cellMetadata": {
      "byteLimit": 2048000,
      "implicitDf": true,
      "rowLimit": 10000
     },
     "inputWidgets": {},
     "nuid": "06e186b3-5de0-4883-9873-cef84f2ada92",
     "showTitle": false,
     "tableResultSettingsMap": {},
     "title": ""
    }
   },
   "outputs": [],
   "source": [
    "%sql\n",
    "select spr.pedido_compra,spr.moneda,spr.cantidad,spr.posicion,spr.valor_neto,spr.indicador_impuesto,spr.total_pago from default.silver_pedidos_raw spr \n",
    "where spr.pedido_compra = 4800784684"
   ]
  },
  {
   "cell_type": "code",
   "execution_count": 0,
   "metadata": {
    "application/vnd.databricks.v1+cell": {
     "cellMetadata": {
      "byteLimit": 2048000,
      "implicitDf": true,
      "rowLimit": 10000
     },
     "inputWidgets": {},
     "nuid": "253a31e9-f5ac-4428-b8bf-ae1d2247e729",
     "showTitle": false,
     "tableResultSettingsMap": {},
     "title": ""
    }
   },
   "outputs": [],
   "source": [
    "%sql\n",
    "select spp.total_pago_soles from default.silver_pedidos_pago spp\n",
    "where spp.pedido_compra = 4800784684"
   ]
  },
  {
   "cell_type": "code",
   "execution_count": 0,
   "metadata": {
    "application/vnd.databricks.v1+cell": {
     "cellMetadata": {
      "byteLimit": 2048000,
      "implicitDf": true,
      "rowLimit": 10000
     },
     "inputWidgets": {},
     "nuid": "8e959a08-fa23-4622-b1f5-dad815fa2bdb",
     "showTitle": false,
     "tableResultSettingsMap": {},
     "title": ""
    }
   },
   "outputs": [],
   "source": [
    "%sql\n",
    "WITH CONTEOS AS (\n",
    "  select spr.pedido_compra,count(*) as conteo from default.silver_pedidos_raw spr \n",
    "  group by spr.pedido_compra \n",
    ")\n",
    "\n",
    "SELECT SUM(cs.conteo) FROM CONTEOS CS"
   ]
  },
  {
   "cell_type": "code",
   "execution_count": 0,
   "metadata": {
    "application/vnd.databricks.v1+cell": {
     "cellMetadata": {
      "byteLimit": 2048000,
      "implicitDf": true,
      "rowLimit": 10000
     },
     "inputWidgets": {},
     "nuid": "24af69bd-93a6-42c2-8027-ac9919170c83",
     "showTitle": false,
     "tableResultSettingsMap": {},
     "title": ""
    }
   },
   "outputs": [],
   "source": [
    "%sql\n",
    "WITH CONTEOS AS (\n",
    "  select spp.pedido_compra,count(*) as conteo from default.silver_pedidos_pago spp \n",
    "  group by spp.pedido_compra \n",
    ")\n",
    "\n",
    "SELECT SUM(cs.conteo) FROM CONTEOS CS"
   ]
  },
  {
   "cell_type": "code",
   "execution_count": 0,
   "metadata": {
    "application/vnd.databricks.v1+cell": {
     "cellMetadata": {
      "byteLimit": 2048000,
      "implicitDf": true,
      "rowLimit": 10000
     },
     "inputWidgets": {},
     "nuid": "70fa44b2-72b9-4aa3-82c1-42f069c52899",
     "showTitle": false,
     "tableResultSettingsMap": {},
     "title": ""
    }
   },
   "outputs": [],
   "source": [
    "%sql\n",
    "select * from default.silver_pedidos_raw spr\n",
    "where spr.pedido_compra = 4800816700"
   ]
  },
  {
   "cell_type": "code",
   "execution_count": 0,
   "metadata": {
    "application/vnd.databricks.v1+cell": {
     "cellMetadata": {
      "byteLimit": 2048000,
      "implicitDf": true,
      "rowLimit": 10000
     },
     "inputWidgets": {},
     "nuid": "e331eaa1-6ad3-45cc-86b1-8fb3acb23756",
     "showTitle": false,
     "tableResultSettingsMap": {},
     "title": ""
    }
   },
   "outputs": [],
   "source": [
    "%sql\n",
    "select spp.nombre_proveedor,\n",
    "spp.pedido_compra, \n",
    "sum(spp.total_pago_soles) as ganancia_proveedor \n",
    "from default.silver_pedidos_pago spp\n",
    "group by spp.nombre_proveedor,spp.pedido_compra \n",
    "ORDER BY ganancia_proveedor desc \n",
    "LIMIT 10"
   ]
  },
  {
   "cell_type": "code",
   "execution_count": 0,
   "metadata": {
    "application/vnd.databricks.v1+cell": {
     "cellMetadata": {},
     "inputWidgets": {},
     "nuid": "ac8a783c-82fe-4d32-b763-5ec4870c5cf1",
     "showTitle": false,
     "tableResultSettingsMap": {},
     "title": ""
    }
   },
   "outputs": [],
   "source": [
    "%sql\n",
    "select spp.nombre_proveedor,spp.pedido_compra, sum(spp.total_pago_soles) as ganancia_proveedor from default.silver_pedidos_pago spp\n",
    "group by spp.nombre_proveedor,spp.pedido_compra\n",
    "HAVING spp.nombre_proveedor = 'SAN FERNANDO S.A.'\n",
    "ORDER BY ganancia_proveedor desc"
   ]
  },
  {
   "cell_type": "code",
   "execution_count": 0,
   "metadata": {
    "application/vnd.databricks.v1+cell": {
     "cellMetadata": {
      "byteLimit": 2048000,
      "implicitDf": true,
      "rowLimit": 10000
     },
     "inputWidgets": {},
     "nuid": "c18a2fbe-67dd-4e9f-b60b-fdf4ac04d6e2",
     "showTitle": false,
     "tableResultSettingsMap": {},
     "title": ""
    }
   },
   "outputs": [],
   "source": [
    "%sql\n",
    "select spp.nombre_proveedor,spp.estado_pedido,spp.pedido_compra,spp.total_pago_soles from default.silver_pedidos_pago spp\n",
    "where spp.nombre_proveedor = 'IMAGEN LIMA SAC'"
   ]
  },
  {
   "cell_type": "code",
   "execution_count": 0,
   "metadata": {
    "application/vnd.databricks.v1+cell": {
     "cellMetadata": {},
     "inputWidgets": {},
     "nuid": "6bc8993a-d225-4c10-b4c4-d343fc8cda2b",
     "showTitle": false,
     "tableResultSettingsMap": {},
     "title": ""
    }
   },
   "outputs": [],
   "source": []
  }
 ],
 "metadata": {
  "application/vnd.databricks.v1+notebook": {
   "computePreferences": null,
   "dashboards": [],
   "environmentMetadata": {
    "base_environment": "",
    "environment_version": "2"
   },
   "inputWidgetPreferences": null,
   "language": "python",
   "notebookMetadata": {
    "mostRecentlyExecutedCommandWithImplicitDF": {
     "commandId": 6104230514460893,
     "dataframes": [
      "_sqldf"
     ]
    },
    "pythonIndentUnit": 4
   },
   "notebookName": "capa_silver",
   "widgets": {
    "tipo_cambio": {
     "currentValue": "3.63",
     "nuid": "73699932-22fc-4c0b-a491-c227a912e2de",
     "typedWidgetInfo": {
      "autoCreated": false,
      "defaultValue": "3.63",
      "label": "Ingrese el tipo de cambio PEN/USD",
      "name": "tipo_cambio",
      "options": {
       "widgetDisplayType": "Text",
       "validationRegex": null
      },
      "parameterDataType": "String"
     },
     "widgetInfo": {
      "widgetType": "text",
      "defaultValue": "3.63",
      "label": "Ingrese el tipo de cambio PEN/USD",
      "name": "tipo_cambio",
      "options": {
       "widgetType": "text",
       "autoCreated": null,
       "validationRegex": null
      }
     }
    }
   }
  },
  "language_info": {
   "name": "python"
  }
 },
 "nbformat": 4,
 "nbformat_minor": 0
}
