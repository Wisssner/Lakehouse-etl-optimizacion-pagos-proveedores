{
 "cells": [
  {
   "cell_type": "code",
   "execution_count": 0,
   "metadata": {
    "application/vnd.databricks.v1+cell": {
     "cellMetadata": {
      "byteLimit": 2048000,
      "rowLimit": 10000
     },
     "inputWidgets": {},
     "nuid": "c1266fe5-c245-4d7f-b9f0-4d1f7c76f765",
     "showTitle": false,
     "tableResultSettingsMap": {},
     "title": ""
    }
   },
   "outputs": [],
   "source": [
    "# 📦 GOLD LAYER: Pedidos Pago\n",
    "from pyspark.sql.functions import col, monotonically_increasing_id, coalesce, lit, upper, trim\n",
    "\n",
    "# 🔄 Eliminar tablas si ya existen\n",
    "drop_list = [\n",
    "    \"default.dim_proveedor\",\n",
    "    \"default.dim_area\",\n",
    "    \"default.dim_pedido\",\n",
    "    \"default.fact_pedidos_pago\"\n",
    "]\n",
    "for table in drop_list:\n",
    "    spark.sql(f\"DROP TABLE IF EXISTS {table}\")\n",
    "\n",
    "# 1️⃣ Leer la tabla Silver\n",
    "silver_df = spark.read.table(\"default.silver_pedidos_pago\")\n",
    "\n",
    "# ✅ Normalizar columnas clave para evitar nulos\n",
    "silver_df = silver_df.withColumn(\"area\", upper(trim(coalesce(col(\"area\"), lit(\"SIN_AREA\"))))) \\\n",
    "                     .withColumn(\"area_solicitante\", upper(trim(coalesce(col(\"area_solicitante\"), lit(\"SIN_AREA\")))))\n",
    "\n",
    "# 2️⃣ Crear DIMENSIONES\n",
    "\n",
    "## 🎯 Dimensión Proveedor\n",
    "dim_proveedor = silver_df.select(\"codigo_proveedor\", \"nombre_proveedor\").dropDuplicates()\n",
    "dim_proveedor = dim_proveedor.withColumn(\"id_proveedor\", monotonically_increasing_id())\n",
    "dim_proveedor.write.format(\"delta\").mode(\"overwrite\").saveAsTable(\"default.dim_proveedor\")\n",
    "\n",
    "## 🎯 Dimensión Área\n",
    "dim_area = silver_df.select(\"area\", \"area_solicitante\").dropDuplicates()\n",
    "dim_area = dim_area.withColumn(\"id_area\", monotonically_increasing_id())\n",
    "dim_area.write.format(\"delta\").mode(\"overwrite\").saveAsTable(\"default.dim_area\")\n",
    "\n",
    "## 🎯 Dimensión Pedido (solo con pedido_compra y estado_pedido)\n",
    "dim_pedido = silver_df.select(\"pedido_compra\", \"estado_pedido\").dropDuplicates()\n",
    "dim_pedido = dim_pedido.withColumn(\"id_pedido\", monotonically_increasing_id())\n",
    "dim_pedido.write.format(\"delta\").mode(\"overwrite\").saveAsTable(\"default.dim_pedido\")\n",
    "\n",
    "# 3️⃣ Crear tabla de HECHOS\n",
    "\n",
    "## 🧱 Agregar ID de dimensiones\n",
    "fact_df = silver_df \\\n",
    "    .join(dim_proveedor, [\"codigo_proveedor\", \"nombre_proveedor\"], \"left\") \\\n",
    "    .join(dim_area, [\"area\", \"area_solicitante\"], \"left\") \\\n",
    "    .join(dim_pedido, [\"pedido_compra\", \"estado_pedido\"], \"left\")\n",
    "\n",
    "## 🧱 Seleccionar columnas finales\n",
    "fact_pedidos_pago = fact_df.select(\n",
    "    \"id_proveedor\", \"id_area\", \"id_pedido\",\n",
    "    \"total_pago_soles\",\n",
    "    \"fecha_recepcion\", \"fecha_generacion\", \"fecha_entrega_servicio\",\n",
    "    \"fecha_documento\", \"fecha_aceptacion\", \"fecha_envio_proveedor\",\n",
    "    \"fecha_mesa_partes\", \"fecha_contabilidad\", \"fecha_pago\", \"fecha_registro_conta\"\n",
    ").withColumn(\"id_fact_pedido_pago\", monotonically_increasing_id())\n",
    "\n",
    "# 4️⃣ Guardar tabla de hechos\n",
    "fact_pedidos_pago.write.format(\"delta\").mode(\"overwrite\").saveAsTable(\"default.fact_pedidos_pago\")\n",
    "\n",
    "print(\"✅ Tablas GOLD creadas exitosamente en el schema 'default': fact_pedidos_pago + dimensiones\")\n"
   ]
  },
  {
   "cell_type": "code",
   "execution_count": 0,
   "metadata": {
    "application/vnd.databricks.v1+cell": {
     "cellMetadata": {
      "byteLimit": 2048000,
      "implicitDf": true,
      "rowLimit": 10000
     },
     "inputWidgets": {},
     "nuid": "fa80ddc1-380f-4b23-980d-65962c12ae4c",
     "showTitle": false,
     "tableResultSettingsMap": {},
     "title": ""
    }
   },
   "outputs": [],
   "source": [
    "%sql\n",
    "select id_proveedor,codigo_proveedor,nombre_proveedor from default.dim_proveedor order by id_proveedor"
   ]
  },
  {
   "cell_type": "code",
   "execution_count": 0,
   "metadata": {
    "application/vnd.databricks.v1+cell": {
     "cellMetadata": {
      "byteLimit": 2048000,
      "implicitDf": true,
      "rowLimit": 10000
     },
     "inputWidgets": {},
     "nuid": "53cd25df-e5dc-43ec-b107-6c5a251763b4",
     "showTitle": false,
     "tableResultSettingsMap": {},
     "title": ""
    }
   },
   "outputs": [],
   "source": [
    "%sql\n",
    "SELECT id_area, area, area_solicitante\n",
    "FROM default.dim_area\n",
    "ORDER BY id_area"
   ]
  },
  {
   "cell_type": "code",
   "execution_count": 0,
   "metadata": {
    "application/vnd.databricks.v1+cell": {
     "cellMetadata": {
      "byteLimit": 2048000,
      "implicitDf": true,
      "rowLimit": 10000
     },
     "inputWidgets": {},
     "nuid": "040aa3a6-4ac9-4905-8619-6b93b47d14e7",
     "showTitle": false,
     "tableResultSettingsMap": {},
     "title": ""
    }
   },
   "outputs": [],
   "source": [
    "%sql\n",
    "SELECT id_pedido, pedido_compra, estado_pedido\n",
    "FROM default.dim_pedido\n",
    "ORDER BY id_pedido"
   ]
  },
  {
   "cell_type": "code",
   "execution_count": 0,
   "metadata": {
    "application/vnd.databricks.v1+cell": {
     "cellMetadata": {
      "byteLimit": 2048000,
      "implicitDf": true,
      "rowLimit": 10000
     },
     "inputWidgets": {},
     "nuid": "d68535ec-ce40-43c0-ab7d-a8fbf51a8028",
     "showTitle": false,
     "tableResultSettingsMap": {},
     "title": ""
    }
   },
   "outputs": [],
   "source": [
    "%sql\n",
    "SELECT * FROM default.dim_pedido WHERE pedido_compra IS NULL OR estado_pedido IS NULL OR codigo_solicitud IS NULL"
   ]
  },
  {
   "cell_type": "code",
   "execution_count": 0,
   "metadata": {
    "application/vnd.databricks.v1+cell": {
     "cellMetadata": {
      "byteLimit": 2048000,
      "implicitDf": true,
      "rowLimit": 10000
     },
     "inputWidgets": {},
     "nuid": "135cb0d0-23ec-4b94-a85c-d042f5f99d02",
     "showTitle": false,
     "tableResultSettingsMap": {},
     "title": ""
    }
   },
   "outputs": [],
   "source": [
    "%sql\n",
    "SELECT\n",
    "  id_fact_pedido_pago,\n",
    "  id_proveedor,\n",
    "  id_area,\n",
    "  id_pedido,\n",
    "  total_pago_soles,\n",
    "  fecha_recepcion,\n",
    "  fecha_generacion,\n",
    "  fecha_entrega_servicio,\n",
    "  fecha_documento,\n",
    "  fecha_aceptacion,\n",
    "  fecha_envio_proveedor,\n",
    "  fecha_mesa_partes,\n",
    "  fecha_contabilidad,\n",
    "  fecha_pago,\n",
    "  fecha_registro_conta\n",
    "FROM default.fact_pedidos_pago\n",
    "order by id_fact_pedido_pago"
   ]
  },
  {
   "cell_type": "code",
   "execution_count": 0,
   "metadata": {
    "application/vnd.databricks.v1+cell": {
     "cellMetadata": {},
     "inputWidgets": {},
     "nuid": "24fc3a14-60e3-45d2-b74e-64ace3b892f6",
     "showTitle": false,
     "tableResultSettingsMap": {},
     "title": ""
    }
   },
   "outputs": [],
   "source": []
  }
 ],
 "metadata": {
  "application/vnd.databricks.v1+notebook": {
   "computePreferences": null,
   "dashboards": [],
   "environmentMetadata": {
    "base_environment": "",
    "environment_version": "2"
   },
   "inputWidgetPreferences": null,
   "language": "python",
   "notebookMetadata": {
    "mostRecentlyExecutedCommandWithImplicitDF": {
     "commandId": 6104230514460903,
     "dataframes": [
      "_sqldf"
     ]
    },
    "pythonIndentUnit": 4
   },
   "notebookName": "capa_gold",
   "widgets": {}
  },
  "language_info": {
   "name": "python"
  }
 },
 "nbformat": 4,
 "nbformat_minor": 0
}
