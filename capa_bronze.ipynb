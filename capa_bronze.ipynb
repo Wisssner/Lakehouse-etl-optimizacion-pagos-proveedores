{
 "cells": [
  {
   "cell_type": "code",
   "execution_count": 0,
   "metadata": {
    "application/vnd.databricks.v1+cell": {
     "cellMetadata": {
      "byteLimit": 2048000,
      "rowLimit": 10000
     },
     "inputWidgets": {},
     "nuid": "97f3f1e4-c45e-4cd4-a3ff-54d1cd004d6b",
     "showTitle": false,
     "tableResultSettingsMap": {},
     "title": ""
    }
   },
   "outputs": [],
   "source": [
    "# Leer el archivo CSV\n",
    "df_csv = (spark.read\n",
    "    .format(\"csv\")\n",
    "    .option(\"header\", True)\n",
    "    .option(\"inferSchema\", True)\n",
    "    .option(\"nullValue\", \"\")\n",
    "    .load(\"/Volumes/workspace/default/biproject/datos.csv\")\n",
    ")\n",
    "\n",
    "# Mostrar estructura\n",
    "df_csv.printSchema()\n",
    "df_csv.show(5, truncate=False)"
   ]
  },
  {
   "cell_type": "code",
   "execution_count": 0,
   "metadata": {
    "application/vnd.databricks.v1+cell": {
     "cellMetadata": {
      "byteLimit": 2048000,
      "rowLimit": 10000
     },
     "inputWidgets": {},
     "nuid": "014ccaed-39c3-4d5d-aa87-ebdea2100bf8",
     "showTitle": false,
     "tableResultSettingsMap": {},
     "title": ""
    }
   },
   "outputs": [],
   "source": [
    "df_csv.printSchema()"
   ]
  },
  {
   "cell_type": "code",
   "execution_count": 0,
   "metadata": {
    "application/vnd.databricks.v1+cell": {
     "cellMetadata": {
      "byteLimit": 2048000,
      "rowLimit": 10000
     },
     "inputWidgets": {},
     "nuid": "71aaa647-a64a-4c03-9c47-936af3694bf7",
     "showTitle": false,
     "tableResultSettingsMap": {},
     "title": ""
    }
   },
   "outputs": [],
   "source": [
    "from pyspark.sql.functions import col\n",
    "\n",
    "df_clean = df_csv.select(\n",
    "    col(\"Código de Solicitud\").alias(\"codigo_solicitud\"),\n",
    "    col(\"Pedido de Compra\").alias(\"pedido_compra\"),\n",
    "    col(\"Posición\").alias(\"posicion\"),\n",
    "    col(\"Código Proveedor\").alias(\"codigo_proveedor\"),\n",
    "    col(\"Nombre del Proveedor\").alias(\"nombre_proveedor\"),\n",
    "    col(\"Texto Breve\").alias(\"texto_breve\"),\n",
    "    col(\"Moneda\").alias(\"moneda\"),\n",
    "    col(\"Cuenta Contable\").alias(\"cuenta_contable\"),\n",
    "    col(\"Grupo Artículo\").alias(\"grupo_articulo\"),\n",
    "    col(\"Fecha Entrega\").alias(\"fecha_entrega\"),\n",
    "    col(\"Cantidad\").alias(\"cantidad\"),\n",
    "    col(\"Unidad\").alias(\"unidad\"),\n",
    "    col(\"Valor Neto\").alias(\"valor_neto\"),\n",
    "    col(\"Indicador de Impuesto\").alias(\"indicador_impuesto\"),\n",
    "    col(\"Centro de Costo\").alias(\"centro_costo\"),\n",
    "    col(\"Orden\").alias(\"orden\"),\n",
    "    col(\"Área\").alias(\"area\"),\n",
    "    # ❌ col(\"Usuario Solicitante\") OMITIDO\n",
    "    col(\"Área de Solicitante\").alias(\"area_solicitante\"),\n",
    "    # ❌ col(\"Usuario Aceptante\") OMITIDO\n",
    "    col(\"Fecha Recepción Solicitud\").alias(\"fecha_recepcion\"),\n",
    "    col(\"Fecha Generación\").alias(\"fecha_generacion\"),\n",
    "    col(\"Fecha Entrega Servicio\").alias(\"fecha_entrega_servicio\"),\n",
    "    col(\"Fecha de Documento\").alias(\"fecha_documento\"),\n",
    "    col(\"Fecha Aceptación de Servicio / Entrada de Mercaderia\").alias(\"fecha_aceptacion\"),\n",
    "    col(\"Fecha de Envío al proveedor/ Usuario\").alias(\"fecha_envio_proveedor\"),\n",
    "    col(\"Fecha Mesa de partes\").alias(\"fecha_mesa_partes\"),\n",
    "    col(\"Fecha Registro Contabilidad\").alias(\"fecha_contabilidad\"),\n",
    "    col(\"Número de Comprobante\").alias(\"numero_comprobante\"),\n",
    "    col(\"Fecha de Pago\").alias(\"fecha_pago\"),\n",
    "    col(\"Estado del Pedido de compra\").alias(\"estado_pedido\"),\n",
    "    col(\"Grupo de Compra\").alias(\"grupo_compra\"),\n",
    "    col(\"Comentarios\").alias(\"comentarios\"),\n",
    "    col(\"OI/OE\").alias(\"oi_oe\"),\n",
    "    col(\"PROV?\").alias(\"prov\"),\n",
    "    col(\"FECHA DE REGISTRO CONTA?\").alias(\"fecha_registro_conta\")\n",
    ")"
   ]
  },
  {
   "cell_type": "code",
   "execution_count": 0,
   "metadata": {
    "application/vnd.databricks.v1+cell": {
     "cellMetadata": {
      "byteLimit": 2048000,
      "rowLimit": 10000
     },
     "inputWidgets": {},
     "nuid": "d28df1ea-1d1e-4eb1-ad93-f5e5d7a35d23",
     "showTitle": false,
     "tableResultSettingsMap": {},
     "title": ""
    }
   },
   "outputs": [],
   "source": [
    "df_clean.write.format(\"delta\").mode(\"overwrite\").saveAsTable(\"default.bfstable\")"
   ]
  },
  {
   "cell_type": "code",
   "execution_count": 0,
   "metadata": {
    "application/vnd.databricks.v1+cell": {
     "cellMetadata": {
      "byteLimit": 2048000,
      "implicitDf": true,
      "rowLimit": 10000
     },
     "inputWidgets": {},
     "nuid": "e241865f-157a-48bc-b925-8349a71afc1b",
     "showTitle": false,
     "tableResultSettingsMap": {},
     "title": ""
    }
   },
   "outputs": [],
   "source": [
    "%sql\n",
    "SELECT bf.pedido_compra,count(*) as conteo FROM default.bfstable bf\n",
    "group by bf.pedido_compra order by conteo desc LIMIT 10;\n"
   ]
  },
  {
   "cell_type": "code",
   "execution_count": 0,
   "metadata": {
    "application/vnd.databricks.v1+cell": {
     "cellMetadata": {
      "byteLimit": 2048000,
      "implicitDf": true,
      "rowLimit": 10000
     },
     "inputWidgets": {},
     "nuid": "af4b1d37-6550-47ac-85ee-e38215b6a332",
     "showTitle": false,
     "tableResultSettingsMap": {},
     "title": ""
    }
   },
   "outputs": [],
   "source": [
    "%sql\n",
    "SELECT bf.pedido_compra,bf.posicion,bf.valor_neto FROM default.bfstable bf\n",
    "where bf.pedido_compra = 4800754205 ORDER BY bf.posicion desc LIMIT 20"
   ]
  },
  {
   "cell_type": "code",
   "execution_count": 0,
   "metadata": {
    "application/vnd.databricks.v1+cell": {
     "cellMetadata": {
      "byteLimit": 2048000,
      "implicitDf": true,
      "rowLimit": 10000
     },
     "inputWidgets": {},
     "nuid": "376a4f3f-cf79-4b26-b083-bfc41572089f",
     "showTitle": false,
     "tableResultSettingsMap": {},
     "title": ""
    }
   },
   "outputs": [],
   "source": [
    "%sql\n",
    "WITH CONTEOS AS (\n",
    "  select bfs.pedido_compra,count(*) as conteo from default.bfstable bfs \n",
    "  group by bfs.pedido_compra \n",
    ")\n",
    "\n",
    "SELECT SUM(cs.conteo) FROM CONTEOS CS"
   ]
  },
  {
   "cell_type": "code",
   "execution_count": 0,
   "metadata": {
    "application/vnd.databricks.v1+cell": {
     "cellMetadata": {},
     "inputWidgets": {},
     "nuid": "6ad7b1e5-dbdd-429f-b7be-78626c196053",
     "showTitle": false,
     "tableResultSettingsMap": {},
     "title": ""
    }
   },
   "outputs": [],
   "source": []
  }
 ],
 "metadata": {
  "application/vnd.databricks.v1+notebook": {
   "computePreferences": null,
   "dashboards": [],
   "environmentMetadata": {
    "base_environment": "",
    "environment_version": "2"
   },
   "inputWidgetPreferences": null,
   "language": "python",
   "notebookMetadata": {
    "mostRecentlyExecutedCommandWithImplicitDF": {
     "commandId": 6104230514460881,
     "dataframes": [
      "_sqldf"
     ]
    },
    "pythonIndentUnit": 4
   },
   "notebookName": "capa_bronze",
   "widgets": {}
  },
  "language_info": {
   "name": "python"
  }
 },
 "nbformat": 4,
 "nbformat_minor": 0
}
